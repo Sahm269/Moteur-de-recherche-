{
 "cells": [
  {
   "cell_type": "markdown",
   "metadata": {},
   "source": [
    "#PARTIE Formulaire "
   ]
  },
  {
   "cell_type": "code",
   "execution_count": null,
   "metadata": {},
   "outputs": [
    {
     "data": {
      "application/vnd.jupyter.widget-view+json": {
       "model_id": "3ece9ebaa18845f693769168b4ff39f5",
       "version_major": 2,
       "version_minor": 0
      },
      "text/plain": [
       "Text(value='', description='Mot-clé:')"
      ]
     },
     "metadata": {},
     "output_type": "display_data"
    },
    {
     "data": {
      "application/vnd.jupyter.widget-view+json": {
       "model_id": "1bf4c7d5f5c544128d2fa8b7c0ea340d",
       "version_major": 2,
       "version_minor": 0
      },
      "text/plain": [
       "IntSlider(value=10, description=\"Nombre d'articles:\", min=1)"
      ]
     },
     "metadata": {},
     "output_type": "display_data"
    },
    {
     "data": {
      "application/vnd.jupyter.widget-view+json": {
       "model_id": "97cab9a4d5764863b949ea3f7fd4d88b",
       "version_major": 2,
       "version_minor": 0
      },
      "text/plain": [
       "Button(description=\"Lancer l'application\", style=ButtonStyle())"
      ]
     },
     "metadata": {},
     "output_type": "display_data"
    }
   ],
   "source": [
    "import ipywidgets as widgets\n",
    "from IPython.display import display\n",
    "\n",
    "# Création des widgets\n",
    "mot_clef_widget = widgets.Text(description=\"Mot-clef:\")\n",
    "nombre_articles_widget = widgets.IntSlider(min=1, max=100, value=10, description=\"Nombre d'articles:\")\n",
    "\n",
    "# Fonction de configuration\n",
    "def configure_app(mot_clef, nombre_articles):\n",
    "    print(f\"Configuration : Mot-clef = {mot_clef}, Nombre d'articles = {nombre_articles}\")\n",
    "\n",
    "# Création du bouton d'exécution\n",
    "button = widgets.Button(description=\"Configurer\", button_style='success')\n",
    "button.on_click(lambda x: configure_app(mot_clef_widget.value, nombre_articles_widget.value))\n",
    "\n",
    "# Affichage des widgets et du bouton\n",
    "display(mot_clef_widget, nombre_articles_widget, button)\n"
   ]
  }
 ],
 "metadata": {
  "kernelspec": {
   "display_name": "base",
   "language": "python",
   "name": "python3"
  },
  "language_info": {
   "codemirror_mode": {
    "name": "ipython",
    "version": 3
   },
   "file_extension": ".py",
   "mimetype": "text/x-python",
   "name": "python",
   "nbconvert_exporter": "python",
   "pygments_lexer": "ipython3",
   "version": "3.11.5"
  }
 },
 "nbformat": 4,
 "nbformat_minor": 2
}
