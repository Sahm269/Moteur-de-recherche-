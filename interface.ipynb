{
 "cells": [
  {
   "cell_type": "markdown",
   "metadata": {},
   "source": [
    "# PARTIE Formulaire "
   ]
  },
  {
   "cell_type": "code",
   "execution_count": 37,
   "metadata": {},
   "outputs": [],
   "source": [
    "import ipywidgets as widgets\n",
    "from IPython.display import display\n",
    "import ipywidgets as widgets\n",
    "\n",
    "\n",
    "import praw\n",
    "from classes.Document import Document \n",
    "from classes.Author import Author\n",
    "from classes.Corpus import Corpus\n",
    "from classes.Document import RedditDocument, ArxivDocument\n",
    "import datetime \n",
    "import pandas as pd \n",
    "import urllib.request\n",
    "import xmltodict\n",
    "import numpy as np\n",
    "from sklearn.metrics.pairwise import cosine_similarity\n",
    "#=========================\n",
    "\n",
    "\n"
   ]
  },
  {
   "cell_type": "code",
   "execution_count": 53,
   "metadata": {},
   "outputs": [],
   "source": [
    "# Création du corpus\n",
    "mon_corpus = Corpus(nom=\"Corpus_article\")\n",
    "# Chargez le corpus depuis un fichier CSV la méthode load prend en parametre le chemin de votre corpus\n",
    "#mon_corpus.load('corpus.csv')\n",
    "#del(Document)\n",
    "#del(mon_corpus)"
   ]
  },
  {
   "cell_type": "code",
   "execution_count": 54,
   "metadata": {},
   "outputs": [
    {
     "data": {
      "application/vnd.jupyter.widget-view+json": {
       "model_id": "ab441ae0853a472b9a42f4abbf7c7cf9",
       "version_major": 2,
       "version_minor": 0
      },
      "text/plain": [
       "Text(value='Football', description='Thème Reddit:')"
      ]
     },
     "metadata": {},
     "output_type": "display_data"
    },
    {
     "data": {
      "application/vnd.jupyter.widget-view+json": {
       "model_id": "93d09614762f489c8767ac35d39c3e7d",
       "version_major": 2,
       "version_minor": 0
      },
      "text/plain": [
       "IntSlider(value=10, description='Limite Reddit:', min=1)"
      ]
     },
     "metadata": {},
     "output_type": "display_data"
    },
    {
     "data": {
      "application/vnd.jupyter.widget-view+json": {
       "model_id": "759c210dfb08483d9389ee9b8a31008f",
       "version_major": 2,
       "version_minor": 0
      },
      "text/plain": [
       "Text(value='_jjmAvQmLvyPWeH7mSTYrw', description='ID Client:')"
      ]
     },
     "metadata": {},
     "output_type": "display_data"
    },
    {
     "data": {
      "application/vnd.jupyter.widget-view+json": {
       "model_id": "38a174e902be4920aa63b15b960a2ecf",
       "version_major": 2,
       "version_minor": 0
      },
      "text/plain": [
       "Text(value='j7vF0wxXN9VuvOrIri3dt3W4fSvH4w', description='Secret Client:')"
      ]
     },
     "metadata": {},
     "output_type": "display_data"
    },
    {
     "data": {
      "application/vnd.jupyter.widget-view+json": {
       "model_id": "14780988efe2417e9c644f8710e06685",
       "version_major": 2,
       "version_minor": 0
      },
      "text/plain": [
       "Text(value='td3', description='Utilisateur:')"
      ]
     },
     "metadata": {},
     "output_type": "display_data"
    },
    {
     "data": {
      "application/vnd.jupyter.widget-view+json": {
       "model_id": "d8bec35895e64ef48dd922f51a25ec18",
       "version_major": 2,
       "version_minor": 0
      },
      "text/plain": [
       "Text(value='foot', description='Thème Arxiv:')"
      ]
     },
     "metadata": {},
     "output_type": "display_data"
    },
    {
     "data": {
      "application/vnd.jupyter.widget-view+json": {
       "model_id": "24c87ac89ecf42669ee9b559ded02ef1",
       "version_major": 2,
       "version_minor": 0
      },
      "text/plain": [
       "IntSlider(value=10, description='Limite Arxiv:', min=1)"
      ]
     },
     "metadata": {},
     "output_type": "display_data"
    },
    {
     "data": {
      "application/vnd.jupyter.widget-view+json": {
       "model_id": "4f8113e1bd7342e98df15e4429075dd5",
       "version_major": 2,
       "version_minor": 0
      },
      "text/plain": [
       "Button(description='Récuperer les données', style=ButtonStyle())"
      ]
     },
     "metadata": {},
     "output_type": "display_data"
    },
    {
     "data": {
      "application/vnd.jupyter.widget-view+json": {
       "model_id": "7035a5c9e758458d982d48c3224a39ec",
       "version_major": 2,
       "version_minor": 0
      },
      "text/plain": [
       "Output()"
      ]
     },
     "metadata": {},
     "output_type": "display_data"
    },
    {
     "data": {
      "application/vnd.jupyter.widget-view+json": {
       "model_id": "7f6dfb7f50df4a80accc2c847bf4485a",
       "version_major": 2,
       "version_minor": 0
      },
      "text/plain": [
       "Button(description='Afficher le Corpus', style=ButtonStyle())"
      ]
     },
     "metadata": {},
     "output_type": "display_data"
    },
    {
     "data": {
      "application/vnd.jupyter.widget-view+json": {
       "model_id": "daf2be24d3904c9a8821e5a4a4f89ff4",
       "version_major": 2,
       "version_minor": 0
      },
      "text/plain": [
       "Button(description='Charger le Corpus', style=ButtonStyle())"
      ]
     },
     "metadata": {},
     "output_type": "display_data"
    },
    {
     "data": {
      "application/vnd.jupyter.widget-view+json": {
       "model_id": "9c84b2e98e0c444b83bf09f37c6e13bb",
       "version_major": 2,
       "version_minor": 0
      },
      "text/plain": [
       "Button(description='Enregistrer le Corpus', style=ButtonStyle())"
      ]
     },
     "metadata": {},
     "output_type": "display_data"
    },
    {
     "name": "stderr",
     "output_type": "stream",
     "text": [
      "It appears that you are using PRAW in an asynchronous environment.\n",
      "It is strongly recommended to use Async PRAW: https://asyncpraw.readthedocs.io.\n",
      "See https://praw.readthedocs.io/en/latest/getting_started/multiple_instances.html#discord-bots-and-asynchronous-environments for more info.\n",
      "\n"
     ]
    },
    {
     "name": "stdout",
     "output_type": "stream",
     "text": [
      "Nombre de documents avant le nettoyage : 5\n",
      "Nombre de documents après le nettoyage : 4\n"
     ]
    }
   ],
   "source": [
    "import ipywidgets as widgets\n",
    "from IPython.display import display\n",
    "# Créer des widgets pour le formulaire Arxiv\n",
    "theme_arxiv_input = widgets.Text(value='foot', description='Thème Arxiv:')\n",
    "limit_arxiv_input = widgets.IntSlider(value=10, min=1, max=100, description='Limite Arxiv:')\n",
    "\n",
    "# Créer des widgets pour le formulaire Reddit\n",
    "theme_reddit_input = widgets.Text(value='Football', description='Thème Reddit:')\n",
    "limit_reddit_input = widgets.IntSlider(value=10, min=1, max=100, description='Limite Reddit:')\n",
    "idclient_input = widgets.Text(value='_jjmAvQmLvyPWeH7mSTYrw', description='ID Client:')\n",
    "secretclient_input = widgets.Text(value='j7vF0wxXN9VuvOrIri3dt3W4fSvH4w', description='Secret Client:')\n",
    "user_input = widgets.Text(value='td3', description='Utilisateur:')\n",
    "\n",
    "# Créer des widgets pour les boutons Afficher, Charger et Enregistrer le corpus\n",
    "button_afficher = widgets.Button(description='Afficher le Corpus')\n",
    "button_charger = widgets.Button(description='Charger le Corpus')\n",
    "button_enregistrer = widgets.Button(description='Enregistrer le Corpus')\n",
    "\n",
    "# Créer des widgets pour afficher les résultats\n",
    "result_output = widgets.Output()\n",
    "\n",
    "# Créer un bouton pour charger les données\n",
    "load_data_button = widgets.Button(description='Récuperer les données')\n",
    "\n",
    "\n",
    "# Fonction appelée lors du clic sur le bouton et qui va recuperer les données Arxiv et Reddit \n",
    "def load_data(button):\n",
    "    #PArtie REDDIT\n",
    "    global collection  # Assurez-vous de déclarer collection comme une variable globale\n",
    "    theme = theme_reddit_input.value\n",
    "    limit = limit_reddit_input.value\n",
    "    idclient = idclient_input.value\n",
    "    secretclient = secretclient_input.value\n",
    "    user = user_input.value\n",
    "\n",
    "    reddit = praw.Reddit(client_id=idclient, client_secret=secretclient, user_agent=user)\n",
    "    subr = reddit.subreddit(theme)\n",
    "\n",
    "    collection = []\n",
    "\n",
    "    for doc in subr.controversial(limit=limit):\n",
    "        titre = doc.title.replace(\"\\n\", '')\n",
    "        auteur = str(doc.author)\n",
    "        date = datetime.datetime.fromtimestamp(doc.created).strftime(\"%Y/%m/%d\")\n",
    "        url = \"https://www.reddit.com/\" + doc.permalink\n",
    "        texte = doc.selftext.replace(\"\\n\", \"\")\n",
    "\n",
    "        doc_class = Document(titre, auteur, date, url, texte)\n",
    "        collection.append(doc_class)\n",
    "        \n",
    "# ====================================================Partie Arxiv : \n",
    "#==========================chargement des données Arxiv en instanciant un objet docyment\n",
    "    theme_arxiv = theme_arxiv_input.value #Foot\n",
    "    limit_arxiv = limit_arxiv_input.value\n",
    "    url = f'http://export.arxiv.org/api/query?search_query=all:{theme_arxiv}&start=0&max_results={limit_arxiv}'\n",
    "    url_read = urllib.request.urlopen(url).read()\n",
    "   \n",
    "\n",
    "    # url_read est un \"byte stream\" qui a besoin d'être décodé\n",
    "    data =  url_read.decode()\n",
    "    dico = xmltodict.parse(data) #xmltodict permet d'obtenir un objet ~JSON\n",
    "    docs = dico['feed']['entry']\n",
    "    for doc in docs:\n",
    "        titre = doc[\"title\"].replace('\\n', '')  # On enlève les retours à la ligne\n",
    "        try:\n",
    "            authors = \", \".join([a[\"name\"] for a in doc[\"author\"]])  # On fait une liste d'auteurs, séparés par une virgule\n",
    "        except:\n",
    "            authors = doc[\"author\"][\"name\"]  # Si l'auteur est seul, pas besoin de liste\n",
    "        summary = doc[\"summary\"].replace(\"\\n\", \"\")  # On enlève les retours à la ligne\n",
    "        date = datetime.datetime.strptime(doc[\"published\"], \"%Y-%m-%dT%H:%M:%SZ\").strftime(\"%Y/%m/%d\")  # Formatage de la date en année/mois/jour avec librairie datetime\n",
    "\n",
    "        doc_class = Document(titre, authors, date, doc[\"id\"], summary)  # Création du Document\n",
    "        collection.append(doc_class)  # Ajout du Document à la liste.\n",
    "        \n",
    "    # Enlever les doublons en se basant sur tout le contenu\n",
    "    seen_documents = set()\n",
    "    unique_collection = []\n",
    "\n",
    "    for doc in collection:\n",
    "        doc_tuple = (doc.titre, doc.auteur, doc.date, doc.texte, doc.type)\n",
    "        if doc_tuple not in seen_documents:\n",
    "            seen_documents.add(doc_tuple)\n",
    "            unique_collection.append(doc)\n",
    "\n",
    "    # Garder uniquement les documents avec plus de 200 caractères dans le texte\n",
    "    filtered_collection = [doc for doc in unique_collection if len(doc.texte) > 200]\n",
    "\n",
    "    # Afficher le nombre de documents avant et après le nettoyage\n",
    "    print(f\"Nombre de documents avant le nettoyage : {len(collection)}\")\n",
    "    print(f\"Nombre de documents après le nettoyage : {len(filtered_collection)}\")\n",
    "\n",
    "    # Réaffecter la liste filtrée à votre collection\n",
    "    collection = filtered_collection\n",
    "\n",
    "    #Rempli le corpus \n",
    "    for doc in collection:\n",
    "        if \"reddit\" in doc.url.lower():\n",
    "            doc.type = \"Reddit\"\n",
    "        else:\n",
    "            doc.type = \"Arxiv\"\n",
    "        mon_corpus.add(doc)\n",
    "    \n",
    "        \n",
    "    with result_output:\n",
    "        result_output.clear_output(wait=True)\n",
    "        print(\"Données chargées avec succès.\")\n",
    "            \n",
    "\n",
    "\n",
    "#=================================== Creation du corpus======================= \n",
    "## =======================================================================\n",
    "# Fonctions associées aux boutons\n",
    "def afficher_corpus(button):\n",
    "    # Logique pour afficher le corpus\n",
    "    with result_output:\n",
    "        result_output.clear_output(wait=True)\n",
    "        mon_corpus.show() \n",
    "\n",
    "def charger_corpus(button):\n",
    "    mon_corpus.load(\"corpus1.csv\") #Chemin n'hésitez à le modifier \n",
    "    with result_output:\n",
    "        result_output.clear_output(wait=True)\n",
    "        print(\"Corpus chargé avec succès Vers le chemin indiqué.\")\n",
    "\n",
    "def enregistrer_corpus(button):\n",
    "    mon_corpus.save(\"corpus1.csv\")\n",
    "    with result_output:\n",
    "        result_output.clear_output(wait=True)\n",
    "        print(\"Corpus enregistré avec succès.\")\n",
    "\n",
    "\n",
    "load_data_button.on_click(load_data)#bouton pour recuperer les données\n",
    "button_afficher.on_click(afficher_corpus)#bouton pour afficher le corpus\n",
    "button_charger.on_click(charger_corpus)#bouton pour charger le corpus depuis l'ordinateur\n",
    "button_enregistrer.on_click(enregistrer_corpus)#bouton pour enregistrer le corpus dans lordinateur \n",
    "\n",
    "# Affichage des widgets\n",
    "display(\n",
    "    theme_reddit_input, limit_reddit_input, idclient_input, secretclient_input, user_input,\n",
    "    theme_arxiv_input, limit_arxiv_input, load_data_button, result_output,\n",
    "    button_afficher, button_charger, button_enregistrer\n",
    ")\n",
    "\n",
    "\n",
    "\n",
    "\n",
    "\n",
    "\n"
   ]
  },
  {
   "cell_type": "markdown",
   "metadata": {},
   "source": [
    "# Formulaires recherches DIFFERENTES METHODES"
   ]
  },
  {
   "cell_type": "markdown",
   "metadata": {},
   "source": [
    "\n",
    "## Methode 1 : SEARCH \n",
    " Ici on va juste afficher les passages qu'on va rencontrer les mots clés dans les differents documents de notre corpus "
   ]
  },
  {
   "cell_type": "code",
   "execution_count": 42,
   "metadata": {},
   "outputs": [
    {
     "data": {
      "application/vnd.jupyter.widget-view+json": {
       "model_id": "ff287f01bcf84879bbecb24f94bdf0c2",
       "version_major": 2,
       "version_minor": 0
      },
      "text/plain": [
       "Text(value='', description='Mots-clés:', placeholder='Entrez vos mots-clés')"
      ]
     },
     "metadata": {},
     "output_type": "display_data"
    },
    {
     "data": {
      "application/vnd.jupyter.widget-view+json": {
       "model_id": "7d87207c4e6b43189e34b215b60de6e0",
       "version_major": 2,
       "version_minor": 0
      },
      "text/plain": [
       "Button(description='Rechercher', style=ButtonStyle())"
      ]
     },
     "metadata": {},
     "output_type": "display_data"
    }
   ],
   "source": [
    "import ipywidgets as widgets\n",
    "from IPython.display import display\n",
    "\n",
    "id2doc = mon_corpus.get_id2doc()\n",
    "# Fonction pour gérer la recherche\n",
    "def effectuer_recherche(b):\n",
    "    mots_clefs = champ_recherche.value\n",
    "    passages = mon_corpus.search(mots_clefs)\n",
    "    \n",
    "    # Afficher les résultats\n",
    "    for doc_id, passage in passages.items():\n",
    "        document = id2doc[doc_id]\n",
    "        print(f\"Document ID: {doc_id}\")\n",
    "        #print(f\"Auteur: {document.auteur}\")\n",
    "        print(f\"Passage: {passage}\")\n",
    "        print(\"\\n\")\n",
    "\n",
    "# Champ de recherche\n",
    "champ_recherche = widgets.Text(description=\"Mots-clés:\", placeholder=\"Entrez vos mots-clés\")\n",
    "\n",
    "# Bouton pour effectuer la recherche\n",
    "bouton_recherche = widgets.Button(description=\"Rechercher\")\n",
    "bouton_recherche.on_click(effectuer_recherche)\n",
    "\n",
    "# Afficher le formulaire\n",
    "display(champ_recherche, bouton_recherche)\n"
   ]
  },
  {
   "cell_type": "markdown",
   "metadata": {},
   "source": [
    "## Methode 2 : matrice tf_idf avec mesure de similarité cos \n"
   ]
  },
  {
   "cell_type": "code",
   "execution_count": 56,
   "metadata": {},
   "outputs": [
    {
     "data": {
      "application/vnd.jupyter.widget-view+json": {
       "model_id": "f213f89275274233bef0b0f89d4eb728",
       "version_major": 2,
       "version_minor": 0
      },
      "text/plain": [
       "Text(value='', description='Mots-clés:', placeholder='Entrez vos mots-clés')"
      ]
     },
     "metadata": {},
     "output_type": "display_data"
    },
    {
     "data": {
      "application/vnd.jupyter.widget-view+json": {
       "model_id": "ece6938392d9495d9fccdced2ffb6fd2",
       "version_major": 2,
       "version_minor": 0
      },
      "text/plain": [
       "IntText(value=5, description='Top N:')"
      ]
     },
     "metadata": {},
     "output_type": "display_data"
    },
    {
     "data": {
      "application/vnd.jupyter.widget-view+json": {
       "model_id": "f01c22ee1a214175b0fe93c818c87875",
       "version_major": 2,
       "version_minor": 0
      },
      "text/plain": [
       "Button(description='Rechercher avec Cosinus', style=ButtonStyle())"
      ]
     },
     "metadata": {},
     "output_type": "display_data"
    },
    {
     "name": "stdout",
     "output_type": "stream",
     "text": [
      "  (0, 13)\t1.3862943611198906\n",
      "  (0, 19)\t0.6931471805599453\n",
      "  (0, 23)\t0.6931471805599453\n",
      "  (0, 36)\t0.6931471805599453\n",
      "  (0, 40)\t0.28768207245178085\n",
      "  (0, 41)\t1.3862943611198906\n",
      "  (0, 51)\t1.3862943611198906\n",
      "  (0, 63)\t0.6931471805599453\n",
      "  (0, 75)\t0.6931471805599453\n",
      "  (0, 79)\t0.6931471805599453\n",
      "  (0, 87)\t0.6931471805599453\n",
      "  (0, 91)\t0.28768207245178085\n",
      "  (0, 94)\t0.6931471805599453\n",
      "  (0, 99)\t0.6931471805599453\n",
      "  (0, 119)\t0.6931471805599453\n",
      "  (0, 122)\t0.6931471805599453\n",
      "  (0, 123)\t1.3862943611198906\n",
      "  (0, 124)\t0.28768207245178085\n",
      "  (0, 127)\t0.6931471805599453\n",
      "  (0, 128)\t0.6931471805599453\n",
      "  (0, 133)\t0.6931471805599453\n",
      "  (0, 141)\t0.6931471805599453\n",
      "  (0, 162)\t0.6931471805599453\n",
      "  (0, 170)\t0.6931471805599453\n",
      "  (0, 203)\t0.6931471805599453\n",
      "  :\t:\n",
      "  (3, 244)\t1.3862943611198906\n",
      "  (3, 248)\t0.6931471805599453\n",
      "  (3, 249)\t0.6931471805599453\n",
      "  (3, 250)\t0.6931471805599453\n",
      "  (3, 255)\t0.6931471805599453\n",
      "  (3, 256)\t0.6931471805599453\n",
      "  (3, 260)\t0.6931471805599453\n",
      "  (3, 263)\t0.5753641449035617\n",
      "  (3, 274)\t0.6931471805599453\n",
      "  (3, 275)\t0.6931471805599453\n",
      "  (3, 276)\t0.6931471805599453\n",
      "  (3, 278)\t0.6931471805599453\n",
      "  (3, 279)\t0.6931471805599453\n",
      "  (3, 284)\t0.6931471805599453\n",
      "  (3, 287)\t0.6931471805599453\n",
      "  (3, 292)\t0.6931471805599453\n",
      "  (3, 293)\t0.6931471805599453\n",
      "  (3, 295)\t0.6931471805599453\n",
      "  (3, 298)\t0.6931471805599453\n",
      "  (3, 300)\t0.6931471805599453\n",
      "  (3, 307)\t0.5753641449035617\n",
      "  (3, 308)\t0.5753641449035617\n",
      "  (3, 309)\t0.6931471805599453\n",
      "  (3, 310)\t0.6931471805599453\n",
      "  (3, 314)\t0.6931471805599453\n",
      "Score de similarité avec le document Messi was NOT the best player last season and/or year : 0.28259011704725046\n",
      "Contenu du document : I know the Messi defence brigade will come out of their holes to justify this decision but honestly at this point I don’t care. Messi obviously one of the best players of all time but in no way was Messi better than Haaland last season. Outside of the WC Messi was outshined by Mbappe within the same league and he got dogwalked by Bayern in the UCL. If Messi went to the premier league and in his very first season broke the prem goal record, was top scorer in the UCL and went ahead and won the clubs first ever treble then he would have won the Ballon D’or regardless of whatever happened in the WC. The people calling for him to win the award now will still be wanting him to win it then. Let’s face it the award is massively biased and is nothing more than a popularity contest. Messi and others have robbed people in the past and they’ll continue to do so in the future.\n",
      "\n",
      "\n",
      "Score de similarité avec le document Dynamic foot morphology explained through 4D scanning and shape modeling : 0.11491478263392532\n",
      "Contenu du document : A detailed understanding of foot morphology can enable the design of morecomfortable and better fitting footwear. However, foot morphology varies widelywithin the population, and changes dynamically during the loading of stancephase. This study presents a parametric statistical shape model from 4D footscans to capture both the inter- and intra-individual variability in footmorphology. Thirty subjects walked on a treadmill while 4D scans of their rightfoot were taken at 90 frames-per-second during stance phase. Each subject'sheight, weight, foot length, foot width, arch length, and sex were alsorecorded. The 4D scans were all registered to a common high-quality foot scan,and a principal component analysis was done on all processed 4D scans.Elastic-net linear regression models were built to predict the principalcomponent scores, which were then inverse transformed into 4D scans. The bestperforming model was selected with leave-one-out cross-validation. The chosenmodel was predicts foot morphology across stance phase with a root-mean squarederror of 5.2 +/- 2.0 mm. This study shows that statistical shape modeling canbe used to predict dynamic changes in foot morphology across the population.The model can be used to investigate and improve foot-footwear interaction,allowing for better fitting and more comfortable footwear.\n",
      "\n",
      "\n",
      "Score de similarité avec le document Is it just me or is Reece James INCREDIBLY overrated? : 0.0\n",
      "Contenu du document : I genuinely think this guy has some incredible PR with the help of Chelsea fans and the media. This dude has straight up been pants since march of 2022 and is somehow still in the “best rb itw” convo “when fit/available”. Is built like a gym devotee yet has the endurance and stamina of a wet shoe box, puts in a good attacking performance every 3 to 5 BUSINESS weeks (not even an exaggeration) and defensively, well, ask Anthony F*CKING Gordon who boned him and got him sent to the showers, probably for the better.\n",
      "\n",
      "\n"
     ]
    },
    {
     "ename": "KeyError",
     "evalue": "0",
     "output_type": "error",
     "traceback": [
      "\u001b[1;31m---------------------------------------------------------------------------\u001b[0m",
      "\u001b[1;31mKeyError\u001b[0m                                  Traceback (most recent call last)",
      "Cell \u001b[1;32mIn[56], line 38\u001b[0m, in \u001b[0;36meffectuer_recherche_cosinus\u001b[1;34m(b)\u001b[0m\n\u001b[0;32m     36\u001b[0m indice_document \u001b[38;5;241m=\u001b[39m indices_tries[i]\n\u001b[0;32m     37\u001b[0m score_similarite \u001b[38;5;241m=\u001b[39m similarites[\u001b[38;5;241m0\u001b[39m, indice_document]\n\u001b[1;32m---> 38\u001b[0m document \u001b[38;5;241m=\u001b[39m id2doc[indice_document]\n\u001b[0;32m     40\u001b[0m \u001b[38;5;28mprint\u001b[39m(\u001b[38;5;124mf\u001b[39m\u001b[38;5;124m\"\u001b[39m\u001b[38;5;124mScore de similarité avec le document \u001b[39m\u001b[38;5;132;01m{\u001b[39;00mdocument\u001b[38;5;241m.\u001b[39mtitre\u001b[38;5;132;01m}\u001b[39;00m\u001b[38;5;124m : \u001b[39m\u001b[38;5;132;01m{\u001b[39;00mscore_similarite\u001b[38;5;132;01m}\u001b[39;00m\u001b[38;5;124m\"\u001b[39m)\n\u001b[0;32m     41\u001b[0m \u001b[38;5;28mprint\u001b[39m(\u001b[38;5;124mf\u001b[39m\u001b[38;5;124m\"\u001b[39m\u001b[38;5;124mContenu du document : \u001b[39m\u001b[38;5;132;01m{\u001b[39;00mdocument\u001b[38;5;241m.\u001b[39mtexte\u001b[38;5;132;01m}\u001b[39;00m\u001b[38;5;124m\"\u001b[39m)\n",
      "\u001b[1;31mKeyError\u001b[0m: 0"
     ]
    }
   ],
   "source": [
    "import ipywidgets as widgets\n",
    "from IPython.display import display\n",
    "import numpy as np\n",
    "from sklearn.metrics.pairwise import cosine_similarity\n",
    "\n",
    "#print(vocab)\n",
    "\n",
    "\n",
    "\n",
    "# Fonction pour gérer la recherche avec la similarité cosinus\n",
    "def effectuer_recherche_cosinus(b):\n",
    "    \n",
    "    mon_corpus.construire_mat_tfidf()\n",
    "    vocab = mon_corpus.get_vocabulaire()\n",
    "    mots_clefs_utilisateur = champ_recherche_cosinus.value\n",
    "    top_n = int(champ_top_n.value)\n",
    "\n",
    "    # Transformer les mots-clés en vecteur\n",
    "    vecteur_requete = np.zeros(len(vocab))\n",
    "    \n",
    "    mots_clefs_propres = mon_corpus.nettoyer_texte(mots_clefs_utilisateur)\n",
    "    for mot in mots_clefs_propres.split():\n",
    "        if mot in vocab:\n",
    "            mot_id = vocab[mot]['id'] - 1\n",
    "            vecteur_requete[mot_id] += 1\n",
    "\n",
    "    # Calculer la similarité cosinus\n",
    "    mat_tfidf = mon_corpus.get_mattdidf()\n",
    "    similarites = cosine_similarity([vecteur_requete], mat_tfidf)\n",
    "\n",
    "    # Afficher les résultats\n",
    "    indices_tries = np.argsort(similarites[0])[::-1]\n",
    "    id2doc = mon_corpus.id2doc\n",
    "    \n",
    "    for i in range(top_n):\n",
    "        indice_document = indices_tries[i]\n",
    "        score_similarite = similarites[0, indice_document]\n",
    "        document = id2doc[indice_document]\n",
    "\n",
    "        print(f\"Score de similarité avec le document {document.titre} : {score_similarite}\")\n",
    "        print(f\"Contenu du document : {document.texte}\")\n",
    "        print(\"\\n\")\n",
    "\n",
    "# Champ de recherche pour la similarité cosinus\n",
    "champ_recherche_cosinus = widgets.Text(description=\"Mots-clés:\", placeholder=\"Entrez vos mots-clés\")\n",
    "\n",
    "# Champ pour spécifier le nombre de résultats à afficher\n",
    "champ_top_n = widgets.IntText(description=\"Top N:\", value=5)\n",
    "\n",
    "# Bouton pour effectuer la recherche avec la similarité cosinus\n",
    "bouton_recherche_cosinus = widgets.Button(description=\"Rechercher avec Cosinus\")\n",
    "bouton_recherche_cosinus.on_click(effectuer_recherche_cosinus)\n",
    "\n",
    "# Afficher le formulaire\n",
    "display(champ_recherche_cosinus, champ_top_n, bouton_recherche_cosinus)\n"
   ]
  },
  {
   "cell_type": "code",
   "execution_count": null,
   "metadata": {},
   "outputs": [],
   "source": []
  }
 ],
 "metadata": {
  "kernelspec": {
   "display_name": "Python 3 (ipykernel)",
   "language": "python",
   "name": "python3"
  },
  "language_info": {
   "codemirror_mode": {
    "name": "ipython",
    "version": 3
   },
   "file_extension": ".py",
   "mimetype": "text/x-python",
   "name": "python",
   "nbconvert_exporter": "python",
   "pygments_lexer": "ipython3",
   "version": "3.11.5"
  }
 },
 "nbformat": 4,
 "nbformat_minor": 2
}
